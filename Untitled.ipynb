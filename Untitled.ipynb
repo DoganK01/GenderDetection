{
 "cells": [
  {
   "cell_type": "code",
   "execution_count": 3,
   "id": "de168edc",
   "metadata": {},
   "outputs": [],
   "source": [
    "from keras.preprocessing.image import ImageDataGenerator\n",
    "from keras.optimizers import Adam\n",
    "from tensorflow.keras.preprocessing.image import img_to_array\n",
    "from keras.utils import to_categorical, plot_model\n",
    "from keras.models import Sequential\n",
    "from keras.layers import BatchNormalization, Conv2D, MaxPooling2D, Activation, Flatten, Dropout, Dense\n",
    "from keras import backend as K\n",
    "from sklearn.model_selection import train_test_split\n",
    "import matplotlib.pyplot as plt\n",
    "import numpy as np\n",
    "import random\n",
    "import cv2\n",
    "import os\n",
    "import glob\n",
    "import tensorflow as tf\n",
    "from tensorflow import keras"
   ]
  },
  {
   "cell_type": "code",
   "execution_count": 4,
   "id": "2a403e0b",
   "metadata": {},
   "outputs": [
    {
     "name": "stdout",
     "output_type": "stream",
     "text": [
      "1\n"
     ]
    }
   ],
   "source": [
    "print(len(tf.config.experimental.list_physical_devices('GPU')))"
   ]
  },
  {
   "cell_type": "code",
   "execution_count": 5,
   "id": "9ad21106",
   "metadata": {},
   "outputs": [
    {
     "data": {
      "text/plain": [
       "[PhysicalDevice(name='/physical_device:CPU:0', device_type='CPU'),\n",
       " PhysicalDevice(name='/physical_device:GPU:0', device_type='GPU')]"
      ]
     },
     "execution_count": 5,
     "metadata": {},
     "output_type": "execute_result"
    }
   ],
   "source": [
    "tf.config.experimental.list_physical_devices()"
   ]
  },
  {
   "cell_type": "code",
   "execution_count": 6,
   "id": "0da069e9",
   "metadata": {},
   "outputs": [
    {
     "data": {
      "text/plain": [
       "True"
      ]
     },
     "execution_count": 6,
     "metadata": {},
     "output_type": "execute_result"
    }
   ],
   "source": [
    "tf.test.is_built_with_cuda()"
   ]
  },
  {
   "cell_type": "code",
   "execution_count": 7,
   "id": "e2156511",
   "metadata": {},
   "outputs": [
    {
     "name": "stdout",
     "output_type": "stream",
     "text": [
      "2.9.1\n"
     ]
    }
   ],
   "source": [
    "print(tf.version.VERSION)"
   ]
  },
  {
   "cell_type": "code",
   "execution_count": 8,
   "id": "286b79aa",
   "metadata": {},
   "outputs": [
    {
     "name": "stdout",
     "output_type": "stream",
     "text": [
      "[name: \"/device:CPU:0\"\n",
      "device_type: \"CPU\"\n",
      "memory_limit: 268435456\n",
      "locality {\n",
      "}\n",
      "incarnation: 9997626225793133859\n",
      "xla_global_id: -1\n",
      ", name: \"/device:GPU:0\"\n",
      "device_type: \"GPU\"\n",
      "memory_limit: 6118686720\n",
      "locality {\n",
      "  bus_id: 1\n",
      "  links {\n",
      "  }\n",
      "}\n",
      "incarnation: 13108485455982323876\n",
      "physical_device_desc: \"device: 0, name: NVIDIA GeForce RTX 2060 SUPER, pci bus id: 0000:29:00.0, compute capability: 7.5\"\n",
      "xla_global_id: 416903419\n",
      "]\n"
     ]
    }
   ],
   "source": [
    "from tensorflow.python.client import device_lib\n",
    "print(device_lib.list_local_devices()) # list of DeviceAttributes"
   ]
  },
  {
   "cell_type": "code",
   "execution_count": 9,
   "id": "c626e2cc",
   "metadata": {},
   "outputs": [
    {
     "data": {
      "text/plain": [
       "'3.9.13 (tags/v3.9.13:6de2ca5, May 17 2022, 16:36:42) [MSC v.1929 64 bit (AMD64)]'"
      ]
     },
     "execution_count": 9,
     "metadata": {},
     "output_type": "execute_result"
    }
   ],
   "source": [
    "import sys\n",
    "\n",
    "sys.version"
   ]
  },
  {
   "cell_type": "code",
   "execution_count": 10,
   "id": "cfd1d39d",
   "metadata": {},
   "outputs": [],
   "source": [
    "epochs = 100\n",
    "lr = 1e-3\n",
    "batch_size = 64\n",
    "img_dims = (96,96,3)\n",
    "\n",
    "data = []\n",
    "labels = []\n",
    "\n",
    "# load image files from the dataset\n",
    "image_files = [f for f in glob.glob(r'gender_dataset_face' + \"/**/*\", recursive=True) if not os.path.isdir(f)]\n",
    "random.shuffle(image_files)\n",
    "\n",
    "# converting images to arrays and labelling the categories\n",
    "for img in image_files:\n",
    "\n",
    "    image = cv2.imread(img)\n",
    "    \n",
    "    image = cv2.resize(image, (img_dims[0],img_dims[1]))\n",
    "    image = img_to_array(image)\n",
    "    data.append(image)\n",
    "\n",
    "    label = img.split(os.path.sep)[-2] # C:\\Files\\gender_dataset_face\\woman\\face_1162.jpg\n",
    "    if label == \"woman\":\n",
    "        label = 1\n",
    "    else:\n",
    "        label = 0\n",
    "        \n",
    "    labels.append([label]) # [[1], [0], [0], ...]\n",
    "\n",
    "# pre-processing\n",
    "data = np.array(data, dtype=\"float\") / 255.0\n",
    "labels = np.array(labels)\n",
    "\n",
    "# split dataset for training and validation\n",
    "(trainX, testX, trainY, testY) = train_test_split(data, labels, test_size=0.2,\n",
    "                                                  random_state=42)\n",
    "\n",
    "trainY = to_categorical(trainY, num_classes=2) # [[1, 0], [0, 1], [0, 1], ...]\n",
    "testY = to_categorical(testY, num_classes=2)\n",
    "\n",
    "# augmenting datset \n",
    "aug = ImageDataGenerator(rotation_range=25, width_shift_range=0.1,\n",
    "                         height_shift_range=0.1, shear_range=0.2, zoom_range=0.2,\n",
    "                         horizontal_flip=True, fill_mode=\"nearest\")\n",
    "\n",
    "# define model\n",
    "def build(width, height, depth, classes):\n",
    "    model = Sequential()\n",
    "    inputShape = (height, width, depth)\n",
    "    chanDim = -1\n",
    "\n",
    "    if K.image_data_format() == \"channels_first\": #Returns a string, either 'channels_first' or 'channels_last'\n",
    "        inputShape = (depth, height, width)\n",
    "        chanDim = 1\n",
    "    \n",
    "    # The axis that should be normalized, after a Conv2D layer with data_format=\"channels_first\", \n",
    "    # set axis=1 in BatchNormalization.\n",
    "\n",
    "    model.add(Conv2D(32, (3,3), padding=\"same\", input_shape=inputShape))\n",
    "    model.add(Activation(\"relu\"))\n",
    "    model.add(BatchNormalization(axis=chanDim))\n",
    "    model.add(MaxPooling2D(pool_size=(3,3)))\n",
    "    model.add(Dropout(0.25))\n",
    "\n",
    "    model.add(Conv2D(64, (3,3), padding=\"same\"))\n",
    "    model.add(Activation(\"relu\"))\n",
    "    model.add(BatchNormalization(axis=chanDim))\n",
    "\n",
    "    model.add(Conv2D(64, (3,3), padding=\"same\"))\n",
    "    model.add(Activation(\"relu\"))\n",
    "    model.add(BatchNormalization(axis=chanDim))\n",
    "    model.add(MaxPooling2D(pool_size=(2,2)))\n",
    "    model.add(Dropout(0.25))\n",
    "\n",
    "    model.add(Conv2D(128, (3,3), padding=\"same\"))\n",
    "    model.add(Activation(\"relu\"))\n",
    "    model.add(BatchNormalization(axis=chanDim))\n",
    "\n",
    "    model.add(Conv2D(128, (3,3), padding=\"same\"))\n",
    "    model.add(Activation(\"relu\"))\n",
    "    model.add(BatchNormalization(axis=chanDim))\n",
    "    model.add(MaxPooling2D(pool_size=(2,2)))\n",
    "    model.add(Dropout(0.25))\n",
    "\n",
    "    model.add(Flatten())\n",
    "    model.add(Dense(1024))\n",
    "    model.add(Activation(\"relu\"))\n",
    "    model.add(BatchNormalization())\n",
    "    model.add(Dropout(0.5))\n",
    "\n",
    "    model.add(Dense(classes))\n",
    "    model.add(Activation(\"sigmoid\"))\n",
    "\n",
    "    return model"
   ]
  },
  {
   "cell_type": "code",
   "execution_count": 11,
   "id": "d99ff73a",
   "metadata": {},
   "outputs": [
    {
     "name": "stderr",
     "output_type": "stream",
     "text": [
      "C:\\Users\\dogan\\AppData\\Roaming\\Python\\Python39\\site-packages\\keras\\optimizers\\optimizer_v2\\adam.py:110: UserWarning: The `lr` argument is deprecated, use `learning_rate` instead.\n",
      "  super(Adam, self).__init__(name, **kwargs)\n",
      "C:\\Users\\dogan\\AppData\\Local\\Temp\\ipykernel_12432\\1820511841.py:10: UserWarning: `Model.fit_generator` is deprecated and will be removed in a future version. Please use `Model.fit`, which supports generators.\n",
      "  H = model.fit_generator(aug.flow(trainX, trainY, batch_size=batch_size),\n"
     ]
    },
    {
     "name": "stdout",
     "output_type": "stream",
     "text": [
      "Epoch 1/100\n",
      "28/28 [==============================] - 10s 145ms/step - loss: 0.7562 - accuracy: 0.7266 - val_loss: 0.7298 - val_accuracy: 0.5065\n",
      "Epoch 2/100\n",
      "28/28 [==============================] - 3s 122ms/step - loss: 0.4386 - accuracy: 0.8198 - val_loss: 0.7298 - val_accuracy: 0.4935\n",
      "Epoch 3/100\n",
      "28/28 [==============================] - 3s 122ms/step - loss: 0.3867 - accuracy: 0.8512 - val_loss: 0.6936 - val_accuracy: 0.5325\n",
      "Epoch 4/100\n",
      "28/28 [==============================] - 3s 123ms/step - loss: 0.3485 - accuracy: 0.8535 - val_loss: 0.7831 - val_accuracy: 0.7121\n",
      "Epoch 5/100\n",
      "28/28 [==============================] - 4s 124ms/step - loss: 0.3365 - accuracy: 0.8731 - val_loss: 0.8377 - val_accuracy: 0.5303\n",
      "Epoch 6/100\n",
      "28/28 [==============================] - 4s 125ms/step - loss: 0.2896 - accuracy: 0.8843 - val_loss: 0.9359 - val_accuracy: 0.4935\n",
      "Epoch 7/100\n",
      "28/28 [==============================] - 4s 124ms/step - loss: 0.2668 - accuracy: 0.8961 - val_loss: 1.1196 - val_accuracy: 0.4935\n",
      "Epoch 8/100\n",
      "28/28 [==============================] - 3s 122ms/step - loss: 0.2148 - accuracy: 0.9135 - val_loss: 2.2746 - val_accuracy: 0.4935\n",
      "Epoch 9/100\n",
      "28/28 [==============================] - 3s 122ms/step - loss: 0.2098 - accuracy: 0.9191 - val_loss: 2.2089 - val_accuracy: 0.4935\n",
      "Epoch 10/100\n",
      "28/28 [==============================] - 3s 123ms/step - loss: 0.1988 - accuracy: 0.9242 - val_loss: 0.4163 - val_accuracy: 0.8485\n",
      "Epoch 11/100\n",
      "28/28 [==============================] - 3s 123ms/step - loss: 0.2107 - accuracy: 0.9259 - val_loss: 0.5264 - val_accuracy: 0.8117\n",
      "Epoch 12/100\n",
      "28/28 [==============================] - 4s 124ms/step - loss: 0.1839 - accuracy: 0.9304 - val_loss: 0.6036 - val_accuracy: 0.7749\n",
      "Epoch 13/100\n",
      "28/28 [==============================] - 3s 123ms/step - loss: 0.1908 - accuracy: 0.9248 - val_loss: 1.0913 - val_accuracy: 0.5671\n",
      "Epoch 14/100\n",
      "28/28 [==============================] - 4s 124ms/step - loss: 0.1781 - accuracy: 0.9360 - val_loss: 0.4990 - val_accuracy: 0.7641\n",
      "Epoch 15/100\n",
      "28/28 [==============================] - 4s 124ms/step - loss: 0.1523 - accuracy: 0.9461 - val_loss: 0.1447 - val_accuracy: 0.9459\n",
      "Epoch 16/100\n",
      "28/28 [==============================] - 3s 123ms/step - loss: 0.1540 - accuracy: 0.9483 - val_loss: 1.3381 - val_accuracy: 0.6234\n",
      "Epoch 17/100\n",
      "28/28 [==============================] - 3s 124ms/step - loss: 0.1371 - accuracy: 0.9489 - val_loss: 0.2942 - val_accuracy: 0.8810\n",
      "Epoch 18/100\n",
      "28/28 [==============================] - 4s 124ms/step - loss: 0.1189 - accuracy: 0.9585 - val_loss: 0.1759 - val_accuracy: 0.9199\n",
      "Epoch 19/100\n",
      "28/28 [==============================] - 3s 123ms/step - loss: 0.1403 - accuracy: 0.9495 - val_loss: 0.1015 - val_accuracy: 0.9654\n",
      "Epoch 20/100\n",
      "28/28 [==============================] - 3s 122ms/step - loss: 0.1517 - accuracy: 0.9410 - val_loss: 0.2501 - val_accuracy: 0.8853\n",
      "Epoch 21/100\n",
      "28/28 [==============================] - 3s 122ms/step - loss: 0.1116 - accuracy: 0.9613 - val_loss: 0.2840 - val_accuracy: 0.9004\n",
      "Epoch 22/100\n",
      "28/28 [==============================] - 3s 122ms/step - loss: 0.1196 - accuracy: 0.9512 - val_loss: 0.5836 - val_accuracy: 0.8203\n",
      "Epoch 23/100\n",
      "28/28 [==============================] - 3s 123ms/step - loss: 0.1337 - accuracy: 0.9517 - val_loss: 0.0886 - val_accuracy: 0.9632\n",
      "Epoch 24/100\n",
      "28/28 [==============================] - 4s 124ms/step - loss: 0.1001 - accuracy: 0.9596 - val_loss: 0.5089 - val_accuracy: 0.8398\n",
      "Epoch 25/100\n",
      "28/28 [==============================] - 3s 123ms/step - loss: 0.1271 - accuracy: 0.9551 - val_loss: 0.1356 - val_accuracy: 0.9459\n",
      "Epoch 26/100\n",
      "28/28 [==============================] - 3s 122ms/step - loss: 0.1177 - accuracy: 0.9556 - val_loss: 0.1314 - val_accuracy: 0.9567\n",
      "Epoch 27/100\n",
      "28/28 [==============================] - 3s 121ms/step - loss: 0.0914 - accuracy: 0.9641 - val_loss: 1.0571 - val_accuracy: 0.6991\n",
      "Epoch 28/100\n",
      "28/28 [==============================] - 3s 123ms/step - loss: 0.0844 - accuracy: 0.9646 - val_loss: 0.0573 - val_accuracy: 0.9762\n",
      "Epoch 29/100\n",
      "28/28 [==============================] - 3s 122ms/step - loss: 0.0772 - accuracy: 0.9708 - val_loss: 0.0755 - val_accuracy: 0.9762\n",
      "Epoch 30/100\n",
      "28/28 [==============================] - 3s 123ms/step - loss: 0.0714 - accuracy: 0.9743 - val_loss: 0.1571 - val_accuracy: 0.9502\n",
      "Epoch 31/100\n",
      "28/28 [==============================] - 4s 130ms/step - loss: 0.0944 - accuracy: 0.9624 - val_loss: 0.3403 - val_accuracy: 0.9004\n",
      "Epoch 32/100\n",
      "28/28 [==============================] - 3s 122ms/step - loss: 0.1084 - accuracy: 0.9573 - val_loss: 0.2813 - val_accuracy: 0.9351\n",
      "Epoch 33/100\n",
      "28/28 [==============================] - 3s 123ms/step - loss: 0.1041 - accuracy: 0.9646 - val_loss: 0.2728 - val_accuracy: 0.9199\n",
      "Epoch 34/100\n",
      "28/28 [==============================] - 3s 123ms/step - loss: 0.0690 - accuracy: 0.9747 - val_loss: 0.3844 - val_accuracy: 0.8983\n",
      "Epoch 35/100\n",
      "28/28 [==============================] - 4s 124ms/step - loss: 0.0839 - accuracy: 0.9674 - val_loss: 0.1453 - val_accuracy: 0.9589\n",
      "Epoch 36/100\n",
      "28/28 [==============================] - 3s 123ms/step - loss: 0.1005 - accuracy: 0.9618 - val_loss: 0.2454 - val_accuracy: 0.9264\n",
      "Epoch 37/100\n",
      "28/28 [==============================] - 4s 125ms/step - loss: 0.0950 - accuracy: 0.9680 - val_loss: 0.0716 - val_accuracy: 0.9762\n",
      "Epoch 38/100\n",
      "28/28 [==============================] - 3s 123ms/step - loss: 0.0871 - accuracy: 0.9613 - val_loss: 0.3937 - val_accuracy: 0.8810\n",
      "Epoch 39/100\n",
      "28/28 [==============================] - 3s 122ms/step - loss: 0.0791 - accuracy: 0.9736 - val_loss: 0.3501 - val_accuracy: 0.8961\n",
      "Epoch 40/100\n",
      "28/28 [==============================] - 3s 123ms/step - loss: 0.0762 - accuracy: 0.9710 - val_loss: 1.4450 - val_accuracy: 0.7251\n",
      "Epoch 41/100\n",
      "28/28 [==============================] - 3s 122ms/step - loss: 0.1091 - accuracy: 0.9579 - val_loss: 0.7228 - val_accuracy: 0.7879\n",
      "Epoch 42/100\n",
      "28/28 [==============================] - 3s 123ms/step - loss: 0.0742 - accuracy: 0.9697 - val_loss: 0.6369 - val_accuracy: 0.8030\n",
      "Epoch 43/100\n",
      "28/28 [==============================] - 4s 124ms/step - loss: 0.0902 - accuracy: 0.9601 - val_loss: 0.2078 - val_accuracy: 0.9351\n",
      "Epoch 44/100\n",
      "28/28 [==============================] - 4s 123ms/step - loss: 0.0781 - accuracy: 0.9721 - val_loss: 0.1526 - val_accuracy: 0.9567\n",
      "Epoch 45/100\n",
      "28/28 [==============================] - 3s 123ms/step - loss: 0.0721 - accuracy: 0.9759 - val_loss: 0.7723 - val_accuracy: 0.8225\n",
      "Epoch 46/100\n",
      "28/28 [==============================] - 4s 124ms/step - loss: 0.0812 - accuracy: 0.9714 - val_loss: 0.5560 - val_accuracy: 0.8398\n",
      "Epoch 47/100\n",
      "28/28 [==============================] - 4s 124ms/step - loss: 0.0815 - accuracy: 0.9697 - val_loss: 0.0651 - val_accuracy: 0.9805\n",
      "Epoch 48/100\n",
      "28/28 [==============================] - 3s 122ms/step - loss: 0.0656 - accuracy: 0.9719 - val_loss: 1.1829 - val_accuracy: 0.7359\n",
      "Epoch 49/100\n",
      "28/28 [==============================] - 3s 123ms/step - loss: 0.0783 - accuracy: 0.9725 - val_loss: 0.0571 - val_accuracy: 0.9805\n",
      "Epoch 50/100\n",
      "28/28 [==============================] - 3s 123ms/step - loss: 0.0725 - accuracy: 0.9736 - val_loss: 0.0849 - val_accuracy: 0.9762\n",
      "Epoch 51/100\n",
      "28/28 [==============================] - 3s 123ms/step - loss: 0.0615 - accuracy: 0.9771 - val_loss: 0.2300 - val_accuracy: 0.9307\n",
      "Epoch 52/100\n",
      "28/28 [==============================] - 3s 122ms/step - loss: 0.0538 - accuracy: 0.9781 - val_loss: 0.0718 - val_accuracy: 0.9784\n",
      "Epoch 53/100\n",
      "28/28 [==============================] - 4s 124ms/step - loss: 0.0557 - accuracy: 0.9803 - val_loss: 0.9373 - val_accuracy: 0.7446\n",
      "Epoch 54/100\n",
      "28/28 [==============================] - 4s 124ms/step - loss: 0.0627 - accuracy: 0.9787 - val_loss: 0.4979 - val_accuracy: 0.8723\n",
      "Epoch 55/100\n",
      "28/28 [==============================] - 3s 123ms/step - loss: 0.0647 - accuracy: 0.9742 - val_loss: 0.0949 - val_accuracy: 0.9675\n",
      "Epoch 56/100\n",
      "28/28 [==============================] - 3s 124ms/step - loss: 0.0554 - accuracy: 0.9815 - val_loss: 0.4875 - val_accuracy: 0.8766\n",
      "Epoch 57/100\n",
      "28/28 [==============================] - 3s 122ms/step - loss: 0.0502 - accuracy: 0.9832 - val_loss: 0.1140 - val_accuracy: 0.9610\n"
     ]
    },
    {
     "name": "stdout",
     "output_type": "stream",
     "text": [
      "Epoch 58/100\n",
      "28/28 [==============================] - 3s 123ms/step - loss: 0.0534 - accuracy: 0.9798 - val_loss: 0.5264 - val_accuracy: 0.8658\n",
      "Epoch 59/100\n",
      "28/28 [==============================] - 3s 122ms/step - loss: 0.0534 - accuracy: 0.9820 - val_loss: 0.0609 - val_accuracy: 0.9719\n",
      "Epoch 60/100\n",
      "28/28 [==============================] - 3s 123ms/step - loss: 0.0395 - accuracy: 0.9899 - val_loss: 0.5272 - val_accuracy: 0.8615\n",
      "Epoch 61/100\n",
      "28/28 [==============================] - 4s 124ms/step - loss: 0.0641 - accuracy: 0.9770 - val_loss: 0.1220 - val_accuracy: 0.9654\n",
      "Epoch 62/100\n",
      "28/28 [==============================] - 3s 123ms/step - loss: 0.0633 - accuracy: 0.9770 - val_loss: 0.1944 - val_accuracy: 0.9416\n",
      "Epoch 63/100\n",
      "28/28 [==============================] - 3s 122ms/step - loss: 0.0468 - accuracy: 0.9809 - val_loss: 0.8001 - val_accuracy: 0.7944\n",
      "Epoch 64/100\n",
      "28/28 [==============================] - 3s 122ms/step - loss: 0.0299 - accuracy: 0.9888 - val_loss: 0.5309 - val_accuracy: 0.8571\n",
      "Epoch 65/100\n",
      "28/28 [==============================] - 3s 122ms/step - loss: 0.0454 - accuracy: 0.9832 - val_loss: 0.1335 - val_accuracy: 0.9545\n",
      "Epoch 66/100\n",
      "28/28 [==============================] - 4s 124ms/step - loss: 0.0442 - accuracy: 0.9832 - val_loss: 0.1313 - val_accuracy: 0.9697\n",
      "Epoch 67/100\n",
      "28/28 [==============================] - 3s 122ms/step - loss: 0.0675 - accuracy: 0.9742 - val_loss: 0.3604 - val_accuracy: 0.8961\n",
      "Epoch 68/100\n",
      "28/28 [==============================] - 3s 122ms/step - loss: 0.0688 - accuracy: 0.9764 - val_loss: 0.3060 - val_accuracy: 0.8961\n",
      "Epoch 69/100\n",
      "28/28 [==============================] - 3s 122ms/step - loss: 0.0843 - accuracy: 0.9646 - val_loss: 0.1742 - val_accuracy: 0.9459\n",
      "Epoch 70/100\n",
      "28/28 [==============================] - 3s 121ms/step - loss: 0.0718 - accuracy: 0.9730 - val_loss: 0.5458 - val_accuracy: 0.8420\n",
      "Epoch 71/100\n",
      "28/28 [==============================] - 3s 122ms/step - loss: 0.0872 - accuracy: 0.9663 - val_loss: 0.0969 - val_accuracy: 0.9697\n",
      "Epoch 72/100\n",
      "28/28 [==============================] - 3s 123ms/step - loss: 0.0784 - accuracy: 0.9725 - val_loss: 0.4126 - val_accuracy: 0.9069\n",
      "Epoch 73/100\n",
      "28/28 [==============================] - 3s 122ms/step - loss: 0.0694 - accuracy: 0.9787 - val_loss: 0.1570 - val_accuracy: 0.9545\n",
      "Epoch 74/100\n",
      "28/28 [==============================] - 3s 122ms/step - loss: 0.0645 - accuracy: 0.9747 - val_loss: 0.1696 - val_accuracy: 0.9394\n",
      "Epoch 75/100\n",
      "28/28 [==============================] - 3s 121ms/step - loss: 0.0462 - accuracy: 0.9803 - val_loss: 0.1146 - val_accuracy: 0.9654\n",
      "Epoch 76/100\n",
      "28/28 [==============================] - 3s 122ms/step - loss: 0.0352 - accuracy: 0.9882 - val_loss: 0.1317 - val_accuracy: 0.9632\n",
      "Epoch 77/100\n",
      "28/28 [==============================] - 3s 122ms/step - loss: 0.0362 - accuracy: 0.9854 - val_loss: 0.2561 - val_accuracy: 0.9156\n",
      "Epoch 78/100\n",
      "28/28 [==============================] - 3s 122ms/step - loss: 0.0575 - accuracy: 0.9787 - val_loss: 0.2066 - val_accuracy: 0.9286\n",
      "Epoch 79/100\n",
      "28/28 [==============================] - 3s 123ms/step - loss: 0.0714 - accuracy: 0.9775 - val_loss: 0.0671 - val_accuracy: 0.9784\n",
      "Epoch 80/100\n",
      "28/28 [==============================] - 3s 122ms/step - loss: 0.0488 - accuracy: 0.9815 - val_loss: 0.0956 - val_accuracy: 0.9697\n",
      "Epoch 81/100\n",
      "28/28 [==============================] - 3s 121ms/step - loss: 0.0457 - accuracy: 0.9809 - val_loss: 0.2170 - val_accuracy: 0.9242\n",
      "Epoch 82/100\n",
      "28/28 [==============================] - 3s 121ms/step - loss: 0.0463 - accuracy: 0.9815 - val_loss: 0.4419 - val_accuracy: 0.8810\n",
      "Epoch 83/100\n",
      "28/28 [==============================] - 3s 123ms/step - loss: 0.0409 - accuracy: 0.9860 - val_loss: 0.0741 - val_accuracy: 0.9675\n",
      "Epoch 84/100\n",
      "28/28 [==============================] - 3s 123ms/step - loss: 0.0487 - accuracy: 0.9809 - val_loss: 0.2045 - val_accuracy: 0.9437\n",
      "Epoch 85/100\n",
      "28/28 [==============================] - 3s 123ms/step - loss: 0.0420 - accuracy: 0.9792 - val_loss: 0.0902 - val_accuracy: 0.9740\n",
      "Epoch 86/100\n",
      "28/28 [==============================] - 3s 122ms/step - loss: 0.0309 - accuracy: 0.9888 - val_loss: 0.2417 - val_accuracy: 0.9264\n",
      "Epoch 87/100\n",
      "28/28 [==============================] - 3s 121ms/step - loss: 0.0537 - accuracy: 0.9798 - val_loss: 0.0740 - val_accuracy: 0.9762\n",
      "Epoch 88/100\n",
      "28/28 [==============================] - 3s 122ms/step - loss: 0.0349 - accuracy: 0.9865 - val_loss: 0.0593 - val_accuracy: 0.9870\n",
      "Epoch 89/100\n",
      "28/28 [==============================] - 3s 122ms/step - loss: 0.0314 - accuracy: 0.9876 - val_loss: 1.1597 - val_accuracy: 0.7619\n",
      "Epoch 90/100\n",
      "28/28 [==============================] - 4s 125ms/step - loss: 0.0547 - accuracy: 0.9821 - val_loss: 0.0934 - val_accuracy: 0.9675\n",
      "Epoch 91/100\n",
      "28/28 [==============================] - 4s 126ms/step - loss: 0.0551 - accuracy: 0.9809 - val_loss: 0.2131 - val_accuracy: 0.9372\n",
      "Epoch 92/100\n",
      "28/28 [==============================] - 4s 127ms/step - loss: 0.0471 - accuracy: 0.9832 - val_loss: 0.2873 - val_accuracy: 0.9242\n",
      "Epoch 93/100\n",
      "28/28 [==============================] - 3s 123ms/step - loss: 0.0495 - accuracy: 0.9815 - val_loss: 0.6978 - val_accuracy: 0.8052\n",
      "Epoch 94/100\n",
      "28/28 [==============================] - 3s 123ms/step - loss: 0.0533 - accuracy: 0.9809 - val_loss: 1.9768 - val_accuracy: 0.6320\n",
      "Epoch 95/100\n",
      "28/28 [==============================] - 4s 125ms/step - loss: 0.0604 - accuracy: 0.9775 - val_loss: 0.5217 - val_accuracy: 0.8225\n",
      "Epoch 96/100\n",
      "28/28 [==============================] - 4s 125ms/step - loss: 0.0512 - accuracy: 0.9787 - val_loss: 0.1310 - val_accuracy: 0.9545\n",
      "Epoch 97/100\n",
      "28/28 [==============================] - 4s 124ms/step - loss: 0.0435 - accuracy: 0.9848 - val_loss: 0.2184 - val_accuracy: 0.9416\n",
      "Epoch 98/100\n",
      "28/28 [==============================] - 3s 124ms/step - loss: 0.0389 - accuracy: 0.9877 - val_loss: 0.1382 - val_accuracy: 0.9524\n",
      "Epoch 99/100\n",
      "28/28 [==============================] - 3s 123ms/step - loss: 0.0563 - accuracy: 0.9815 - val_loss: 1.4034 - val_accuracy: 0.7208\n",
      "Epoch 100/100\n",
      "28/28 [==============================] - 3s 122ms/step - loss: 0.0439 - accuracy: 0.9815 - val_loss: 0.1301 - val_accuracy: 0.9675\n"
     ]
    },
    {
     "name": "stderr",
     "output_type": "stream",
     "text": [
      "WARNING:absl:Found untraced functions such as _jit_compiled_convolution_op, _jit_compiled_convolution_op, _jit_compiled_convolution_op, _jit_compiled_convolution_op, _jit_compiled_convolution_op while saving (showing 5 of 5). These functions will not be directly callable after loading.\n"
     ]
    },
    {
     "name": "stdout",
     "output_type": "stream",
     "text": [
      "INFO:tensorflow:Assets written to: gender_detection.model\\assets\n"
     ]
    },
    {
     "name": "stderr",
     "output_type": "stream",
     "text": [
      "INFO:tensorflow:Assets written to: gender_detection.model\\assets\n"
     ]
    },
    {
     "ename": "KeyError",
     "evalue": "'val_acc'",
     "output_type": "error",
     "traceback": [
      "\u001b[1;31m---------------------------------------------------------------------------\u001b[0m",
      "\u001b[1;31mKeyError\u001b[0m                                  Traceback (most recent call last)",
      "Input \u001b[1;32mIn [11]\u001b[0m, in \u001b[0;36m<cell line: 25>\u001b[1;34m()\u001b[0m\n\u001b[0;32m     23\u001b[0m plt\u001b[38;5;241m.\u001b[39mplot(np\u001b[38;5;241m.\u001b[39marange(\u001b[38;5;241m0\u001b[39m,N), H\u001b[38;5;241m.\u001b[39mhistory[\u001b[38;5;124m\"\u001b[39m\u001b[38;5;124mval_loss\u001b[39m\u001b[38;5;124m\"\u001b[39m], label\u001b[38;5;241m=\u001b[39m\u001b[38;5;124m\"\u001b[39m\u001b[38;5;124mval_loss\u001b[39m\u001b[38;5;124m\"\u001b[39m)\n\u001b[0;32m     24\u001b[0m plt\u001b[38;5;241m.\u001b[39mplot(np\u001b[38;5;241m.\u001b[39marange(\u001b[38;5;241m0\u001b[39m,N), H\u001b[38;5;241m.\u001b[39mhistory[\u001b[38;5;124m\"\u001b[39m\u001b[38;5;124maccuracy\u001b[39m\u001b[38;5;124m\"\u001b[39m], label\u001b[38;5;241m=\u001b[39m\u001b[38;5;124m\"\u001b[39m\u001b[38;5;124mtrain_acc\u001b[39m\u001b[38;5;124m\"\u001b[39m)\n\u001b[1;32m---> 25\u001b[0m plt\u001b[38;5;241m.\u001b[39mplot(np\u001b[38;5;241m.\u001b[39marange(\u001b[38;5;241m0\u001b[39m,N), \u001b[43mH\u001b[49m\u001b[38;5;241;43m.\u001b[39;49m\u001b[43mhistory\u001b[49m\u001b[43m[\u001b[49m\u001b[38;5;124;43m\"\u001b[39;49m\u001b[38;5;124;43mval_acc\u001b[39;49m\u001b[38;5;124;43m\"\u001b[39;49m\u001b[43m]\u001b[49m, label\u001b[38;5;241m=\u001b[39m\u001b[38;5;124m\"\u001b[39m\u001b[38;5;124mval_acc\u001b[39m\u001b[38;5;124m\"\u001b[39m)\n\u001b[0;32m     27\u001b[0m plt\u001b[38;5;241m.\u001b[39mtitle(\u001b[38;5;124m\"\u001b[39m\u001b[38;5;124mTraining Loss and Accuracy\u001b[39m\u001b[38;5;124m\"\u001b[39m)\n\u001b[0;32m     28\u001b[0m plt\u001b[38;5;241m.\u001b[39mxlabel(\u001b[38;5;124m\"\u001b[39m\u001b[38;5;124mEpoch #\u001b[39m\u001b[38;5;124m\"\u001b[39m)\n",
      "\u001b[1;31mKeyError\u001b[0m: 'val_acc'"
     ]
    },
    {
     "data": {
      "image/png": "[encoded data removed]",
      "text/plain": [
       "<Figure size 432x288 with 1 Axes>"
      ]
     },
     "metadata": {
      "needs_background": "light"
     },
     "output_type": "display_data"
    }
   ],
   "source": [
    "# build model\n",
    "model = build(width=img_dims[0], height=img_dims[1], depth=img_dims[2],\n",
    "                            classes=2)\n",
    "\n",
    "# compile the model\n",
    "opt = Adam(lr=lr, decay=lr/epochs)\n",
    "model.compile(loss=\"binary_crossentropy\", optimizer=opt, metrics=[\"accuracy\"])\n",
    "\n",
    "# train the model\n",
    "H = model.fit_generator(aug.flow(trainX, trainY, batch_size=batch_size),\n",
    "                        validation_data=(testX,testY),\n",
    "                        steps_per_epoch=len(trainX) // batch_size,\n",
    "                        epochs=epochs, verbose=1)\n",
    "\n",
    "# save the model to disk\n",
    "model.save('gender_detection.model')\n",
    "\n",
    "# plot training/validation loss/accuracy\n",
    "plt.style.use(\"ggplot\")\n",
    "plt.figure()\n",
    "N = epochs\n",
    "plt.plot(np.arange(0,N), H.history[\"loss\"], label=\"train_loss\")\n",
    "plt.plot(np.arange(0,N), H.history[\"val_loss\"], label=\"val_loss\")\n",
    "plt.plot(np.arange(0,N), H.history[\"accuracy\"], label=\"train_acc\")\n",
    "plt.plot(np.arange(0,N), H.history[\"val_acc\"], label=\"val_acc\")\n",
    "\n",
    "plt.title(\"Training Loss and Accuracy\")\n",
    "plt.xlabel(\"Epoch #\")\n",
    "plt.ylabel(\"Loss/Accuracy\")\n",
    "plt.legend(loc=\"upper right\")\n",
    "\n",
    "# save plot to disk\n",
    "plt.savefig('plot.png')"
   ]
  },
  {
   "cell_type": "code",
   "execution_count": 12,
   "id": "7d2eaed0",
   "metadata": {},
   "outputs": [
    {
     "data": {
      "image/png": "[encoded data removed]",
      "text/plain": [
       "<Figure size 432x288 with 1 Axes>"
      ]
     },
     "metadata": {},
     "output_type": "display_data"
    }
   ],
   "source": [
    "# plot training/validation loss/accuracy\n",
    "plt.style.use(\"ggplot\")\n",
    "plt.figure()\n",
    "N = epochs\n",
    "plt.plot(np.arange(0,N), H.history[\"loss\"], label=\"train_loss\")\n",
    "plt.plot(np.arange(0,N), H.history[\"val_loss\"], label=\"val_loss\")\n",
    "plt.plot(np.arange(0,N), H.history[\"accuracy\"], label=\"train_acc\")\n",
    "plt.plot(np.arange(0,N), H.history[\"val_accuracy\"], label=\"val_acc\")\n",
    "\n",
    "plt.title(\"Training Loss and Accuracy\")\n",
    "plt.xlabel(\"Epoch #\")\n",
    "plt.ylabel(\"Loss/Accuracy\")\n",
    "plt.legend(loc=\"upper right\")\n",
    "\n",
    "# save plot to disk\n",
    "plt.savefig('plot.png')"
   ]
  },
  {
   "cell_type": "code",
   "execution_count": null,
   "id": "dfac8594",
   "metadata": {},
   "outputs": [],
   "source": []
  }
 ],
 "metadata": {
  "kernelspec": {
   "display_name": "Python 3 (ipykernel)",
   "language": "python",
   "name": "python3"
  },
  "language_info": {
   "codemirror_mode": {
    "name": "ipython",
    "version": 3
   },
   "file_extension": ".py",
   "mimetype": "text/x-python",
   "name": "python",
   "nbconvert_exporter": "python",
   "pygments_lexer": "ipython3",
   "version": "3.9.13"
  }
 },
 "nbformat": 4,
 "nbformat_minor": 5
}
